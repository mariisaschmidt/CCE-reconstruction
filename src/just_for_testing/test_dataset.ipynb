{
 "cells": [
  {
   "cell_type": "code",
   "execution_count": 1,
   "metadata": {},
   "outputs": [],
   "source": [
    "import os \n",
    "from datasets import load_dataset"
   ]
  },
  {
   "cell_type": "code",
   "execution_count": 2,
   "metadata": {},
   "outputs": [],
   "source": [
    "data_files = []\n",
    "dirname = \"/Users/marisa/clausal-coordinate-ellipsis/german-common-crawl/correct_files\"\n",
    "for filename in os.listdir(dirname):\n",
    "    data_files.append(dirname + \"/\" + filename)"
   ]
  },
  {
   "cell_type": "code",
   "execution_count": 3,
   "metadata": {},
   "outputs": [],
   "source": [
    "ds = load_dataset(\"json\", data_files=data_files)"
   ]
  },
  {
   "cell_type": "code",
   "execution_count": 4,
   "metadata": {},
   "outputs": [
    {
     "data": {
      "text/plain": [
       "DatasetDict({\n",
       "    train: Dataset({\n",
       "        features: ['url', 'date_download', 'digest', 'length', 'nlines', 'source_domain', 'title', 'raw_content', 'cc_segment', 'original_nlines', 'original_length', 'language', 'language_score', 'perplexity', 'bucket'],\n",
       "        num_rows: 8394579\n",
       "    })\n",
       "})"
      ]
     },
     "execution_count": 4,
     "metadata": {},
     "output_type": "execute_result"
    }
   ],
   "source": [
    "ds"
   ]
  },
  {
   "cell_type": "code",
   "execution_count": 5,
   "metadata": {},
   "outputs": [
    {
     "data": {
      "application/vnd.jupyter.widget-view+json": {
       "model_id": "3c9e4ab1f8e3475b95c27922bd1d2b48",
       "version_major": 2,
       "version_minor": 0
      },
      "text/plain": [
       "VBox(children=(HTML(value='<center> <img\\nsrc=https://huggingface.co/front/assets/huggingface_logo-noborder.sv…"
      ]
     },
     "metadata": {},
     "output_type": "display_data"
    }
   ],
   "source": [
    "from huggingface_hub import notebook_login\n",
    "\n",
    "notebook_login()"
   ]
  },
  {
   "cell_type": "code",
   "execution_count": null,
   "metadata": {},
   "outputs": [
    {
     "data": {
      "text/plain": [
       "{'type': 'user',\n",
       " 'id': '6530f41bccc16ed44cfb278b',\n",
       " 'name': 'mariisa',\n",
       " 'fullname': 'Marisa',\n",
       " 'email': 'marisaschmidt@uni-koblenz.de',\n",
       " 'emailVerified': True,\n",
       " 'canPay': False,\n",
       " 'isPro': False,\n",
       " 'periodEnd': None,\n",
       " 'avatarUrl': 'https://aeiljuispo.cloudimg.io/v7/https://cdn-uploads.huggingface.co/production/uploads/6530f41bccc16ed44cfb278b/3RwRlFVN_K0buTMRK8pBN.png?w=200&h=200&f=face',\n",
       " 'orgs': [],\n",
       " 'auth': {'type': 'access_token',\n",
       "  'accessToken': {'displayName': 'push ellipsis', 'role': 'write'}}}"
      ]
     },
     "execution_count": 19,
     "metadata": {},
     "output_type": "execute_result"
    }
   ],
   "source": [
    "from huggingface_hub import whoami\n",
    "\n",
    "whoami()"
   ]
  },
  {
   "cell_type": "code",
   "execution_count": 6,
   "metadata": {},
   "outputs": [
    {
     "data": {
      "text/plain": [
       "{'url': 'https://ytforum.de/lexicon/index.php/Entry/92-SEO/?s=d69cdb75a48be06dc2ecfade4aab14c7ec5e3b1c',\n",
       " 'date_download': datetime.datetime(2020, 2, 28, 12, 38, 27),\n",
       " 'digest': 'sha1:MMS3J2FNODSOQYTMC5QOOJ5M5SCY7DWD',\n",
       " 'length': 3009,\n",
       " 'nlines': 10,\n",
       " 'source_domain': 'ytforum.de',\n",
       " 'title': 'SEO - Allgemeines - YTForum.de - Deine YouTube Community',\n",
       " 'raw_content': 'Dies sind Maßnahmen, die dafür sorgen, dass Inhalte, die man ins Internet stellt, von den Suchmaschinen (Google, YouTube, Bing, Facebook, Yahoo, DuckDuckgo, etc) besser verstanden werden und eingeordnet werden können. Dies passiert mit dem Ziel, suchenden Usern Videos oder andere Inhalte anzeigen zu können, die sie auch wirklich sehen wollen. Diese Maßnahmen betreffen in Bezug auf YouTube vor allem Titel, Description (Beschreibung), Tags (Schlagworte), Playlisten, Thumbnail (Vorschaubild) und Close Captions (Untertitel), und wie man sie möglichst optimal nutzt.\\nSEO oder Search Engine Optimization, auf deutsch Suchmaschinenoptimierung\\nSuchmaschinen sind heutzutage künstliche Intelligenzen (KI / AI), diese werden zwar meistens noch von Menschen optimiert, aber die meisten Informationen, die eine solche Maschine sammelt, um Dinge einschätzen zu können liegen heutzutage außerhalb der Wirkungsbereiche der Content Ersteller. Denn hier werden Watchtime, Audience Retention, Views/Impression, Userspezifische Datenbanken und viele, viele andere Datenpunkte kombiniert. Experten gehen davon aus, dass YouTube mittlerweile ca 80.000.000 Datenpunkte erfaßt und diese zur Einschätzung von Content heranzieht.\\nWas ist SEO und warum sollte man es möglichst ausführlich betreiben?\\nTrotzdem ist es gerade bei neu veröffentlichtem Content und bei unbekannten Kanälen extrem wichtig, dass man der KI soviele Daten wie möglich gibt, damit diese den Inhalt eines Videos einschätzen kann, und wiederum damit die Videos genau den Usern angezeigt werden können, die genau nach solchen Inhalten suchen. Inhalte, die solche Daten nicht liefern, können auch sehr, sehr viel schlechter eingeordnet werden und werden damit auch von Anfang an sehr viel schlechter gefunden und sehr viel weniger angezeigt. Man kann die besten Videos machen, wenn die KI nicht verstehen kann, worum es im Video geht, weil die SEO Daten unvollständig sind oder völlig fehlen, dann werden solche Videos auch fast nie angezeigt. Hier liegt einer der Hauptgründe, warum manche Kanäle einfach niemals wachsen, weil die KI nicht einschätzen kann, welche User wollen solche Videos sehen und damit haben die Videos auch fast keine Chance Views zu bekommen.\\nWie macht man SEO\\nEs gibt 1000e Tips und Tricks rund um SEO und die optimale Vorgehensweise. Dazu gibt es auch zigtausende Tutorial Videos und hundertausende Blogs, die genauere Details dazu geben können. Es kommt auch immer mit ein wenig auf den Inhalt mit an. Obendrein ändern sich diese optimalen Vorgehensweisen permanent, da die Suchmaschinen sich ebenfalls ständig ändern, ihre Parameter optimieren, neue Datenpunkte mit in die Einschätzung aufgenommen werden und die Gewichtung dieser Datenpunkte permanenten Anpassungen unterworfen sind. SEO ist ein fortlaufender Prozess, den man stetig optimieren und anpassen kann und sollte, und wo man ständig dazu lernen muss und sich anpassen muss.\\nZapZockt - 26. April 2019, 05:17\\nZapZockt - 9. April 2019, 02:25\\nZapZockt - 30. März 2019, 17:56',\n",
       " 'cc_segment': 'crawl-data/CC-MAIN-2020-10/segments/1581875147154.70/wet/CC-MAIN-20200228104413-20200228134413-00139.warc.wet.gz',\n",
       " 'original_nlines': 174,\n",
       " 'original_length': 7403,\n",
       " 'language': 'de',\n",
       " 'language_score': 1.0,\n",
       " 'perplexity': 333.0,\n",
       " 'bucket': 'head'}"
      ]
     },
     "execution_count": 6,
     "metadata": {},
     "output_type": "execute_result"
    }
   ],
   "source": [
    "ds['train'][-1]"
   ]
  },
  {
   "cell_type": "code",
   "execution_count": 7,
   "metadata": {},
   "outputs": [],
   "source": [
    "ds = ds.select_columns('raw_content')"
   ]
  },
  {
   "cell_type": "code",
   "execution_count": 8,
   "metadata": {},
   "outputs": [],
   "source": [
    "import nltk.data"
   ]
  },
  {
   "cell_type": "code",
   "execution_count": 9,
   "metadata": {},
   "outputs": [
    {
     "name": "stderr",
     "output_type": "stream",
     "text": [
      "[nltk_data] Downloading package punkt to /Users/marisa/nltk_data...\n",
      "[nltk_data]   Package punkt is already up-to-date!\n"
     ]
    },
    {
     "data": {
      "text/plain": [
       "True"
      ]
     },
     "execution_count": 9,
     "metadata": {},
     "output_type": "execute_result"
    }
   ],
   "source": [
    "nltk.download('punkt')"
   ]
  },
  {
   "cell_type": "code",
   "execution_count": null,
   "metadata": {},
   "outputs": [
    {
     "ename": "",
     "evalue": "",
     "output_type": "error",
     "traceback": [
      "\u001b[1;31mThe Kernel crashed while executing code in the the current cell or a previous cell. Please review the code in the cell(s) to identify a possible cause of the failure. Click <a href='https://aka.ms/vscodeJupyterKernelCrash'>here</a> for more info. View Jupyter <a href='command:jupyter.viewOutput'>log</a> for further details."
     ]
    }
   ],
   "source": [
    "for text in ds['train']['raw_content']:\n",
    "    sentences = nltk.sent_tokenize(text)\n",
    "    print(sentences)\n",
    "    break "
   ]
  }
 ],
 "metadata": {
  "kernelspec": {
   "display_name": "cce",
   "language": "python",
   "name": "python3"
  },
  "language_info": {
   "codemirror_mode": {
    "name": "ipython",
    "version": 3
   },
   "file_extension": ".py",
   "mimetype": "text/x-python",
   "name": "python",
   "nbconvert_exporter": "python",
   "pygments_lexer": "ipython3",
   "version": "3.10.0"
  }
 },
 "nbformat": 4,
 "nbformat_minor": 2
}
