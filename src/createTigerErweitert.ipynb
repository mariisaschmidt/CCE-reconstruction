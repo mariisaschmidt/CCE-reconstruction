{
 "cells": [
  {
   "cell_type": "code",
   "execution_count": 2,
   "metadata": {},
   "outputs": [],
   "source": [
    "import pandas as pd\n",
    "import numpy as np"
   ]
  },
  {
   "cell_type": "code",
   "execution_count": 6,
   "metadata": {},
   "outputs": [
    {
     "name": "stdout",
     "output_type": "stream",
     "text": [
      "Columns in df1 but not in df2: {'SecEdge', 'Ignore???'}\n",
      "Columns in df2 but not in df1: {'XML', 'Unnamed: 14'}\n"
     ]
    },
    {
     "data": {
      "text/plain": [
       "<bound method NDFrame.head of      Sent_no                                  Original sentence  \\\n",
       "0     s35005  Die gegenwärtig zu verzeichnenden enormen Prod...   \n",
       "1     s25307                         Luft gemacht , mehr nicht    \n",
       "2     s22126  Er beansprucht kein nationales Gebiet und veru...   \n",
       "3      s9727                 Den Haag kontert und holt Berater    \n",
       "4     s23118  Monopole sollen geknackt und Märkte getrennt w...   \n",
       "...      ...                                                ...   \n",
       "7331  s17638  Im folgenden soll - vor diesem Hintergrund ein...   \n",
       "7332  s19408  Wenn der CDU-Politiker den inneren Frieden in ...   \n",
       "7333  s32754  Und in einem kleinen Raum gleich hinter der Wa...   \n",
       "7334  s13797  Vor einer Reform des Beamtenrechts ist eine gr...   \n",
       "7335   s5240  Wenn die Unternehmen der Metallverarbeitung ga...   \n",
       "\n",
       "                                     Comments  \\\n",
       "0     word count does not work - Double check   \n",
       "1                                    PTZcoord   \n",
       "2                                               \n",
       "3                                               \n",
       "4                                               \n",
       "...                                       ...   \n",
       "7331                                            \n",
       "7332                                            \n",
       "7333                                            \n",
       "7334                  No CCE in item lists???   \n",
       "7335                  No CCE in item lists???   \n",
       "\n",
       "                                         Canonical form  \\\n",
       "0     Die gegenwärtig zu verzeichnenden enormen Prod...   \n",
       "1                   Luft gemacht , mehr nicht gemacht_g   \n",
       "2     Er beansprucht kein nationales Gebiet und er_f...   \n",
       "3       Den Haag kontert und Den_f Haag_f holt Berater    \n",
       "4     Monopole sollen geknackt werden_b und Märkte s...   \n",
       "...                                                 ...   \n",
       "7331  Im folgenden soll - vor diesem Hintergrund ein...   \n",
       "7332  Wenn der CDU-Politiker den inneren Frieden in ...   \n",
       "7333  Und in einem kleinen Raum gleich hinter der Wa...   \n",
       "7334  Vor einer Reform des Beamtenrechts ist eine gr...   \n",
       "7335  Wenn die Unternehmen der Metallverarbeitung ga...   \n",
       "\n",
       "                                                  gold2 gold3  FCR  Gapping  \\\n",
       "0                                                                0        1   \n",
       "1                            Luft gemacht , mehr nicht           0        1   \n",
       "2                                                                0        1   \n",
       "3                                                                1        0   \n",
       "4                                                                0        1   \n",
       "...                                                 ...   ...  ...      ...   \n",
       "7331                                                             0        0   \n",
       "7332                                                             0        0   \n",
       "7333  Und in einem kleinen Raum gleich hinter der Wa...          0        0   \n",
       "7334  Vor einer Reform des Beamtenrechts ist eine gr...          0        0   \n",
       "7335                                                             0        0   \n",
       "\n",
       "      FG  BCR  SGF LOC  Sentence Length  SecEdge  Ignore??? Unnamed: 15  XML  \\\n",
       "0      0    0    0                    0  SecEDGE  Ignore???              NaN   \n",
       "1      0    0    0                    5           Ignore???              NaN   \n",
       "2      0    0    0                    0  SecEDGE                         NaN   \n",
       "3      0    0    0                    6  SecEDGE                         NaN   \n",
       "4      0    1    0                    7  SecEDGE  Ignore???              NaN   \n",
       "...   ..  ...  ...  ..              ...      ...        ...         ...  ...   \n",
       "7331   0    0    0   1               88      NaN        NaN              XML   \n",
       "7332   0    0    0   0               90      NaN        NaN              XML   \n",
       "7333   0    0    0   1              104      NaN        NaN              XML   \n",
       "7334   0    0    0   1              121      NaN        NaN              XML   \n",
       "7335   0    0    0   1              130      NaN        NaN              XML   \n",
       "\n",
       "     Unnamed: 14  \n",
       "0            NaN  \n",
       "1            NaN  \n",
       "2            NaN  \n",
       "3            NaN  \n",
       "4            NaN  \n",
       "...          ...  \n",
       "7331              \n",
       "7332              \n",
       "7333              \n",
       "7334              \n",
       "7335              \n",
       "\n",
       "[7336 rows x 18 columns]>"
      ]
     },
     "execution_count": 6,
     "metadata": {},
     "output_type": "execute_result"
    }
   ],
   "source": [
    "df1 = pd.read_csv(\"../data/070924_TIGER/SecEdgeTiger.csv\", sep=\";\")\n",
    "df1 = df1.fillna(np.nan).replace([np.nan], [\" \"])\n",
    "df1 = df1.astype(str)\n",
    "df1 = df1.rename(columns={\"Canonical form \": \"Canonical form\"})\n",
    "df1 = df1.rename(columns={\"LOC (to be added)\": \"LOC\"})\n",
    "\n",
    "df2 = pd.read_csv(\"../data/070924_TIGER/XMLEncodedTiger.csv\", sep=\";\")\n",
    "df2 = df2.fillna(np.nan).replace([np.nan], [\" \"])\n",
    "df2 = df2.astype(str)\n",
    "\n",
    "# Columns in df1 but not in df2\n",
    "diff1 = set(df1.columns) - set(df2.columns)\n",
    "\n",
    "# Columns in df2 but not in df1\n",
    "diff2 = set(df2.columns) - set(df1.columns)\n",
    "\n",
    "if not diff1 and not diff2:\n",
    "    print(\"The column names match.\")\n",
    "else:\n",
    "    if diff1:\n",
    "        print(f\"Columns in df1 but not in df2: {diff1}\")\n",
    "    if diff2:\n",
    "        print(f\"Columns in df2 but not in df1: {diff2}\")\n",
    "\n",
    "df = pd.concat([df1, df2])\n",
    "df.to_csv(\"../data/070924_TIGER/TIGER-canonical-forms.csv\", index=False, sep=\";\")\n",
    "\n",
    "df3 = pd.read_csv(\"../data/070924_TIGER/TIGER-canonical-forms.csv\", sep=\";\")\n",
    "df3.head"
   ]
  }
 ],
 "metadata": {
  "kernelspec": {
   "display_name": "cce",
   "language": "python",
   "name": "python3"
  },
  "language_info": {
   "codemirror_mode": {
    "name": "ipython",
    "version": 3
   },
   "file_extension": ".py",
   "mimetype": "text/x-python",
   "name": "python",
   "nbconvert_exporter": "python",
   "pygments_lexer": "ipython3",
   "version": "3.10.0"
  }
 },
 "nbformat": 4,
 "nbformat_minor": 2
}
