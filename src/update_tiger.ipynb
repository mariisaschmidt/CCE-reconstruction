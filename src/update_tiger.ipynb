{
 "cells": [
  {
   "cell_type": "code",
   "execution_count": 2,
   "metadata": {},
   "outputs": [],
   "source": [
    "import pandas as pd\n",
    "import numpy as np"
   ]
  },
  {
   "cell_type": "code",
   "execution_count": 8,
   "metadata": {},
   "outputs": [],
   "source": [
    "df1 = pd.read_csv(\"/Users/marisa/data/070924_TIGER/SecEdgeTiger.csv\", sep=\";\")\n",
    "df1 = df1.fillna(np.nan).replace([np.nan], [\" \"])\n",
    "df1 = df1.astype(str)\n",
    "df1 = df1.rename(columns={\"Canonical form \": \"Canonical form\"})\n",
    "df1 = df1.rename(columns={\"LOC (to be added)\": \"LOC\"})\n",
    "\n",
    "df2 = pd.read_csv(\"/Users/marisa/data/070924_TIGER/XMLEncodedTiger.csv\", sep=\";\")\n",
    "df2 = df2.fillna(np.nan).replace([np.nan], [\" \"])\n",
    "df2 = df2.astype(str)\n",
    "\n",
    "# # Columns in df1 but not in df2\n",
    "# diff1 = set(df1.columns) - set(df2.columns)\n",
    "\n",
    "# # Columns in df2 but not in df1\n",
    "# diff2 = set(df2.columns) - set(df1.columns)\n",
    "\n",
    "# if not diff1 and not diff2:\n",
    "#     print(\"The column names match.\")\n",
    "# else:\n",
    "#     if diff1:\n",
    "#         print(f\"Columns in df1 but not in df2: {diff1}\")\n",
    "#     if diff2:\n",
    "#         print(f\"Columns in df2 but not in df1: {diff2}\")\n",
    "\n",
    "df = pd.concat([df1, df2])\n",
    "df.to_csv(\"/Users/marisa/data/070924_TIGER/TIGER-canonical-forms.csv\", index=False)"
   ]
  }
 ],
 "metadata": {
  "kernelspec": {
   "display_name": "cce",
   "language": "python",
   "name": "python3"
  },
  "language_info": {
   "codemirror_mode": {
    "name": "ipython",
    "version": 3
   },
   "file_extension": ".py",
   "mimetype": "text/x-python",
   "name": "python",
   "nbconvert_exporter": "python",
   "pygments_lexer": "ipython3",
   "version": "3.10.0"
  }
 },
 "nbformat": 4,
 "nbformat_minor": 2
}
