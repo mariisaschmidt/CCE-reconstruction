{
 "cells": [
  {
   "cell_type": "code",
   "execution_count": 1,
   "metadata": {},
   "outputs": [],
   "source": [
    "import os \n",
    "from datasets import load_dataset\n",
    "import nltk.data\n",
    "import json\n",
    "\n",
    "data_files = []\n",
    "dirname = \"/Users/marisa/clausal-coordinate-ellipsis/german-common-crawl/correct_files\"\n",
    "for filename in os.listdir(dirname):\n",
    "    data_files.append(dirname + \"/\" + filename)\n",
    "\n",
    "ds = load_dataset(\"json\", data_files=data_files, split='train', streaming=True)\n",
    "ds = ds.select_columns('raw_content')"
   ]
  },
  {
   "cell_type": "code",
   "execution_count": 2,
   "metadata": {},
   "outputs": [],
   "source": [
    "def tokenize(text):\n",
    "    sents = nltk.sent_tokenize(text['raw_content'])\n",
    "    for s in sents:\n",
    "        s = s + '[NEXT]'\n",
    "    text['raw_content'] = str(sents)\n",
    "    return text"
   ]
  },
  {
   "cell_type": "code",
   "execution_count": 3,
   "metadata": {},
   "outputs": [
    {
     "data": {
      "text/plain": [
       "IterableDataset({\n",
       "    features: Unknown,\n",
       "    n_shards: 5\n",
       "})"
      ]
     },
     "execution_count": 3,
     "metadata": {},
     "output_type": "execute_result"
    }
   ],
   "source": [
    "ds_modified = ds.map(tokenize)\n",
    "ds_modified"
   ]
  },
  {
   "cell_type": "markdown",
   "metadata": {},
   "source": [
    "## Datensatz nach json schreiben"
   ]
  },
  {
   "cell_type": "code",
   "execution_count": 7,
   "metadata": {},
   "outputs": [
    {
     "name": "stdout",
     "output_type": "stream",
     "text": [
      "10000\n",
      "20000\n",
      "30000\n",
      "40000\n",
      "50000\n",
      "60000\n",
      "70000\n",
      "80000\n",
      "90000\n",
      "100000\n",
      "110000\n",
      "120000\n",
      "130000\n",
      "140000\n",
      "150000\n",
      "160000\n",
      "170000\n",
      "180000\n",
      "190000\n",
      "200000\n",
      "210000\n",
      "220000\n",
      "230000\n",
      "240000\n",
      "250000\n",
      "260000\n",
      "270000\n",
      "280000\n",
      "290000\n",
      "300000\n",
      "310000\n",
      "320000\n",
      "330000\n",
      "340000\n",
      "350000\n",
      "360000\n",
      "370000\n",
      "380000\n",
      "390000\n",
      "400000\n",
      "410000\n",
      "420000\n",
      "430000\n",
      "440000\n",
      "450000\n",
      "460000\n",
      "470000\n",
      "480000\n",
      "490000\n",
      "500000\n",
      "510000\n",
      "520000\n",
      "530000\n",
      "540000\n",
      "550000\n",
      "560000\n",
      "570000\n",
      "580000\n",
      "590000\n",
      "600000\n",
      "610000\n",
      "620000\n",
      "630000\n",
      "640000\n",
      "650000\n",
      "660000\n",
      "670000\n",
      "680000\n",
      "690000\n",
      "700000\n",
      "710000\n",
      "720000\n",
      "730000\n",
      "740000\n",
      "750000\n",
      "760000\n",
      "770000\n",
      "780000\n",
      "790000\n",
      "800000\n",
      "810000\n",
      "820000\n",
      "830000\n",
      "840000\n",
      "850000\n",
      "860000\n",
      "870000\n",
      "880000\n",
      "890000\n",
      "900000\n",
      "910000\n",
      "920000\n",
      "930000\n",
      "940000\n",
      "950000\n",
      "960000\n",
      "970000\n",
      "980000\n",
      "990000\n",
      "1000000\n"
     ]
    }
   ],
   "source": [
    "# all together\n",
    "sent_id = 0\n",
    "with open(\"de_de_pairs.jsonl\", \"a\") as file:\n",
    "    for tokenized_sentence in ds_modified:\n",
    "        splitted = tokenized_sentence['raw_content'].split(\"',\")\n",
    "        for i in range(len(splitted)): # wenn 1. x: 3 vorne entfernen, sonst 2, am Ende immer zwei\n",
    "            splitted[i] = splitted[i][2:(len(splitted[i])-1)]\n",
    "            jsn = {'id:': sent_id, 'sentence': splitted[i], 'gold_sentence': splitted[i]}\n",
    "            json.dumps(jsn)\n",
    "            file.write(str(jsn) + '\\n')\n",
    "            sent_id += 1\n",
    "            if sent_id % 100000 == 0:\n",
    "                print(sent_id)\n",
    "        if sent_id > 1000000:\n",
    "            break "
   ]
  },
  {
   "cell_type": "code",
   "execution_count": null,
   "metadata": {},
   "outputs": [],
   "source": [
    "# CHECK: json Datei schreiben mit: ID, Satz, Satz_gold (Sätze aus gesamten Datensatz) \n",
    "# TODO: neuen Datensatz aus json laden und damit Model trainieren"
   ]
  }
 ],
 "metadata": {
  "kernelspec": {
   "display_name": "cce",
   "language": "python",
   "name": "python3"
  },
  "language_info": {
   "codemirror_mode": {
    "name": "ipython",
    "version": 3
   },
   "file_extension": ".py",
   "mimetype": "text/x-python",
   "name": "python",
   "nbconvert_exporter": "python",
   "pygments_lexer": "ipython3",
   "version": "3.10.0"
  }
 },
 "nbformat": 4,
 "nbformat_minor": 2
}
