{
 "cells": [
  {
   "cell_type": "code",
   "execution_count": 22,
   "metadata": {},
   "outputs": [],
   "source": [
    "import os \n",
    "from datasets import load_dataset\n",
    "import nltk.data\n",
    "import json\n",
    "\n",
    "data_files = []\n",
    "dirname = \"/Users/marisa/clausal-coordinate-ellipsis/german-common-crawl/correct_files\"\n",
    "for filename in os.listdir(dirname):\n",
    "    data_files.append(dirname + \"/\" + filename)\n",
    "\n",
    "ds = load_dataset(\"json\", data_files=data_files, split='train', streaming=True)\n",
    "ds = ds.select_columns('raw_content')"
   ]
  },
  {
   "cell_type": "code",
   "execution_count": 23,
   "metadata": {},
   "outputs": [],
   "source": [
    "def tokenize(text):\n",
    "    sents = nltk.sent_tokenize(text['raw_content'])\n",
    "    for s in sents:\n",
    "        s = s + '[NEXT]'\n",
    "    text['raw_content'] = str(sents)\n",
    "    return text"
   ]
  },
  {
   "cell_type": "code",
   "execution_count": 24,
   "metadata": {},
   "outputs": [
    {
     "data": {
      "text/plain": [
       "IterableDataset({\n",
       "    features: Unknown,\n",
       "    n_shards: 5\n",
       "})"
      ]
     },
     "execution_count": 24,
     "metadata": {},
     "output_type": "execute_result"
    }
   ],
   "source": [
    "ds_modified = ds.map(tokenize)\n",
    "ds_modified"
   ]
  },
  {
   "cell_type": "markdown",
   "metadata": {},
   "source": [
    "## Datensatz nach json schreiben"
   ]
  },
  {
   "cell_type": "code",
   "execution_count": 33,
   "metadata": {},
   "outputs": [
    {
     "name": "stdout",
     "output_type": "stream",
     "text": [
      "100000\n",
      "200000\n",
      "300000\n",
      "400000\n",
      "500000\n",
      "600000\n",
      "700000\n",
      "800000\n",
      "900000\n",
      "1000000\n"
     ]
    }
   ],
   "source": [
    "# all together\n",
    "sent_id = 0\n",
    "with open(\"de_de_pairs.jsonl\", \"a\") as file:\n",
    "    for tokenized_sentence in ds_modified:\n",
    "        splitted = tokenized_sentence['raw_content'].split(\"',\")\n",
    "        for i in range(len(splitted)):\n",
    "            splitted[i] = splitted[i][2:(len(splitted[i])-1)]\n",
    "            jsn = {\"id\": sent_id, \"sentence\": splitted[i], \"gold_sentence\": splitted[i]}\n",
    "            jsn = json.dumps(jsn)\n",
    "            file.write(jsn + '\\n')\n",
    "            sent_id += 1\n",
    "            if sent_id % 100000 == 0:\n",
    "                print(sent_id)\n",
    "        if sent_id > 1000000:\n",
    "            break "
   ]
  }
 ],
 "metadata": {
  "kernelspec": {
   "display_name": "cce",
   "language": "python",
   "name": "python3"
  },
  "language_info": {
   "codemirror_mode": {
    "name": "ipython",
    "version": 3
   },
   "file_extension": ".py",
   "mimetype": "text/x-python",
   "name": "python",
   "nbconvert_exporter": "python",
   "pygments_lexer": "ipython3",
   "version": "3.10.0"
  }
 },
 "nbformat": 4,
 "nbformat_minor": 2
}
