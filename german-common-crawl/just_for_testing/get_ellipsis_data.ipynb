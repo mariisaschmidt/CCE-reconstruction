{
 "cells": [
  {
   "cell_type": "code",
   "execution_count": 1,
   "metadata": {},
   "outputs": [],
   "source": [
    "import pandas as pd"
   ]
  },
  {
   "cell_type": "code",
   "execution_count": 5,
   "metadata": {},
   "outputs": [],
   "source": [
    "df = pd.read_csv(\"/Users/marisa/clausal-coordinate-ellipsis/german-common-crawl/20230426_CCE_BLEU.csv\", sep=\";\")"
   ]
  },
  {
   "cell_type": "code",
   "execution_count": 15,
   "metadata": {},
   "outputs": [
    {
     "name": "stdout",
     "output_type": "stream",
     "text": [
      "Eintragsnummer\n",
      "Tree\n",
      "BLEU\n",
      "BCR\n",
      "FCR\n",
      "Gapping\n",
      "SGF\n",
      "LCO\n",
      "NoCCE\n",
      "Phenomena simplified (b/f/g/s/k=not-bfgs-coord);\"-\" kein Phänomen, gegebenenfalls Satzkoordination(en)\n",
      "Phenomena Bemerkung\n",
      "Treebank-Sentence\n",
      "Reconstructed-Sentence\n",
      "Gold_1\n",
      "Gold_2\n",
      "Gold_3\n"
     ]
    }
   ],
   "source": [
    "for column in df:\n",
    "    print(column)"
   ]
  },
  {
   "cell_type": "code",
   "execution_count": null,
   "metadata": {},
   "outputs": [],
   "source": [
    "# create json string for each line in df"
   ]
  }
 ],
 "metadata": {
  "kernelspec": {
   "display_name": "cce",
   "language": "python",
   "name": "python3"
  },
  "language_info": {
   "codemirror_mode": {
    "name": "ipython",
    "version": 3
   },
   "file_extension": ".py",
   "mimetype": "text/x-python",
   "name": "python",
   "nbconvert_exporter": "python",
   "pygments_lexer": "ipython3",
   "version": "3.10.0"
  }
 },
 "nbformat": 4,
 "nbformat_minor": 2
}
