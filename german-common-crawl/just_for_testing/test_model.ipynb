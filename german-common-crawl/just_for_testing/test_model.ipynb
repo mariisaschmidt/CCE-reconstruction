{
 "cells": [
  {
   "cell_type": "code",
   "execution_count": null,
   "metadata": {},
   "outputs": [],
   "source": [
    "from transformers import AutoTokenizer, AutoModelForSeq2SeqLM\n",
    "\n",
    "checkpoint = \"/home/marisa/clausal-coordinate-ellipsis/german-common-crawl/de_de_110124/checkpoint-93000\"\n",
    "tokenizer = AutoTokenizer.from_pretrained(checkpoint)\n",
    "model = AutoModelForSeq2SeqLM.from_pretrained(checkpoint)"
   ]
  },
  {
   "cell_type": "code",
   "execution_count": null,
   "metadata": {},
   "outputs": [],
   "source": [
    "inputs = tokenizer.encode(\"Die Sonne ist der Stern, der der Erde am nächsten ist und das Zentrum des Sonnensystems bildet.\", return_tensors=\"pt\")\n",
    "outputs = model.generate(inputs)\n",
    "print(tokenizer.decode(outputs[0]))"
   ]
  },
  {
   "cell_type": "code",
   "execution_count": 6,
   "metadata": {},
   "outputs": [
    {
     "data": {
      "application/vnd.jupyter.widget-view+json": {
       "model_id": "27898b5dc598447090fbf9611b2fc931",
       "version_major": 2,
       "version_minor": 0
      },
      "text/plain": [
       "Generating train split: 0 examples [00:00, ? examples/s]"
      ]
     },
     "metadata": {},
     "output_type": "display_data"
    },
    {
     "data": {
      "application/vnd.jupyter.widget-view+json": {
       "model_id": "3f9e865f582b4e399cbc13b1843846b5",
       "version_major": 2,
       "version_minor": 0
      },
      "text/plain": [
       "Generating train split: 0 examples [00:00, ? examples/s]"
      ]
     },
     "metadata": {},
     "output_type": "display_data"
    },
    {
     "name": "stdout",
     "output_type": "stream",
     "text": [
      "Loaded Dataset!\n"
     ]
    }
   ],
   "source": [
    "from datasets import load_dataset, DatasetDict \n",
    "\n",
    "train_data = \"/Users/marisa/clausal-coordinate-ellipsis/german-common-crawl/tüba_train.jsonl\"\n",
    "test_data = \"/Users/marisa/clausal-coordinate-ellipsis/german-common-crawl/tüba_test.jsonl\"\n",
    "train_dataset = load_dataset(\"json\", data_files=train_data, split='train')\n",
    "test_dataset = load_dataset(\"json\", data_files=test_data, split='train')\n",
    "de_de_dataset = DatasetDict({\"train\": train_dataset,\n",
    "                                \"test\": test_dataset\n",
    "                            })\n",
    "print(\"Loaded Dataset!\")"
   ]
  },
  {
   "cell_type": "code",
   "execution_count": 4,
   "metadata": {},
   "outputs": [
    {
     "name": "stdout",
     "output_type": "stream",
     "text": [
      "DatasetDict({\n",
      "    train: Dataset({\n",
      "        features: ['Eintragsnummer', 'Tree', 'BLEU', 'BCR', 'FCR', 'Gapping', 'SGF', 'LCO', 'NoCCE', 'Phenomena simplified (b\\\\/f\\\\/g\\\\/s\\\\/k=not-bfgs-coord);\"-\" kein Phänomen, gegebenenfalls Satzkoordination(en)', 'Phenomena Bemerkung', 'Treebank-Sentence', 'Reconstructed-Sentence', 'Gold_1', 'Gold_2', 'Gold_3'],\n",
      "        num_rows: 1443\n",
      "    })\n",
      "    test: Dataset({\n",
      "        features: ['Eintragsnummer', 'Tree', 'BLEU', 'BCR', 'FCR', 'Gapping', 'SGF', 'LCO', 'NoCCE', 'Phenomena simplified (b\\\\/f\\\\/g\\\\/s\\\\/k=not-bfgs-coord);\"-\" kein Phänomen, gegebenenfalls Satzkoordination(en)', 'Phenomena Bemerkung', 'Treebank-Sentence', 'Reconstructed-Sentence', 'Gold_1', 'Gold_2', 'Gold_3'],\n",
      "        num_rows: 360\n",
      "    })\n",
      "})\n"
     ]
    }
   ],
   "source": [
    "print(de_de_dataset)"
   ]
  }
 ],
 "metadata": {
  "kernelspec": {
   "display_name": "cce",
   "language": "python",
   "name": "python3"
  },
  "language_info": {
   "codemirror_mode": {
    "name": "ipython",
    "version": 3
   },
   "file_extension": ".py",
   "mimetype": "text/x-python",
   "name": "python",
   "nbconvert_exporter": "python",
   "pygments_lexer": "ipython3",
   "version": "3.10.0"
  }
 },
 "nbformat": 4,
 "nbformat_minor": 2
}
