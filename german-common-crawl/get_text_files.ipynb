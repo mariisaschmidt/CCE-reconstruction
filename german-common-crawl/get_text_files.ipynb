{
 "cells": [
  {
   "cell_type": "code",
   "execution_count": 2,
   "metadata": {},
   "outputs": [],
   "source": [
    "import os \n",
    "from datasets import load_dataset\n",
    "import nltk.data\n",
    "\n",
    "data_files = []\n",
    "dirname = \"/Users/marisa/clausal-coordinate-ellipsis/german-common-crawl/correct_files\"\n",
    "for filename in os.listdir(dirname):\n",
    "    data_files.append(dirname + \"/\" + filename)\n",
    "\n",
    "ds = load_dataset(\"json\", data_files=data_files)\n",
    "ds = ds.select_columns('raw_content')"
   ]
  },
  {
   "cell_type": "markdown",
   "metadata": {},
   "source": [
    "Write all texts to file "
   ]
  },
  {
   "cell_type": "code",
   "execution_count": null,
   "metadata": {},
   "outputs": [
    {
     "data": {
      "text/plain": [
       "Dataset({\n",
       "    features: ['raw_content'],\n",
       "    num_rows: 8394579\n",
       "})"
      ]
     },
     "execution_count": 3,
     "metadata": {},
     "output_type": "execute_result"
    }
   ],
   "source": [
    "entry = ds['train']\n",
    "entry['raw_content'][1]\n",
    "# fn = \"tmp_\" + str(i)\n",
    "# with open(\"/texts/\" + fn, 'a') as tmp_file:\n",
    "#     tmp_file.write(text)\n",
    "# i = i + 1"
   ]
  },
  {
   "cell_type": "markdown",
   "metadata": {},
   "source": [
    "tokenize sentences from tmp_files and write them to another file"
   ]
  },
  {
   "cell_type": "code",
   "execution_count": null,
   "metadata": {},
   "outputs": [],
   "source": [
    "# TODO\n",
    "sentences = nltk.sent_tokenize(text)"
   ]
  }
 ],
 "metadata": {
  "kernelspec": {
   "display_name": "cce",
   "language": "python",
   "name": "python3"
  },
  "language_info": {
   "codemirror_mode": {
    "name": "ipython",
    "version": 3
   },
   "file_extension": ".py",
   "mimetype": "text/x-python",
   "name": "python",
   "nbconvert_exporter": "python",
   "pygments_lexer": "ipython3",
   "version": "3.10.0"
  }
 },
 "nbformat": 4,
 "nbformat_minor": 2
}
